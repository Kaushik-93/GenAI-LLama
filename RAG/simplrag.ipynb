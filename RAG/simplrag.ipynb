{
 "cells": [
  {
   "cell_type": "code",
   "execution_count": 2,
   "metadata": {},
   "outputs": [],
   "source": [
    "#Data Ingestion\n",
    "from langchain_community.document_loaders import PyPDFLoader\n",
    "loader=PyPDFLoader('inputData.pdf')\n",
    "docs=loader.load()"
   ]
  },
  {
   "cell_type": "code",
   "execution_count": 3,
   "metadata": {},
   "outputs": [
    {
     "data": {
      "text/plain": [
       "[Document(page_content='CONTOSO LTD.  \\nContoso Headquarters  \\n123 456th St \\nNew York, NY , 10001  \\nMicrosoft Corp  \\n123 Other St,  \\nRedmond WA, 98052  INVOICE  \\nINVOICE : INV-100 \\nINVOICE DATE : 11/15/20 19 \\nDUE DATE:  12/15/20 19 \\nCUSTOMER NAME:  MICROSOFT CORPORATION  \\nSERVICE PERIO D: 10/14/2019 – 11/14/2019  \\nCUSTOMER ID:  CID-12345  \\nBILL TO: \\nMicrosoft Finance  \\n123 Bill St,  \\nRedmond WA, 98052  SHIP TO:  \\nMicrosoft Delivery  \\n123 Ship St,  \\nRedmond WA, 98052  SERVICE ADDRESS:  \\nMicrosoft Services  \\n123 Service St,  \\nRedmond WA, 98052  \\nSALESPERSON  P.O. NUMBER  REQUISITIONER  SHIPPED VIA  F.O.B. POINT  TERMS  \\nPO-3333  \\nDATE  ITEM CODE  DESCRIPTION  QTY  UM PRICE  TAX  AMOUNT  \\n3/4/20 21 A123 Consulting Services  2 hours $30.00  $6.00  $60.00  \\n3/5/2021  B456 Document Fee 3 $10.00  $3.00 $30.00  \\n3/6/2021  C789 Printing Fee  10 pages  $1.00  $1.00  $10.00  \\nSUBTOTAL  $100.00  \\nSALES TAX  $10.00  \\nTOTAL  $110.00  \\nPREVIOUS UNPAID BALANCE  $500.00  \\nAMOUNT DUE  $610.00  \\nTHANK YOU FOR YOUR BUSINESS!  \\nREMIT TO: \\nContoso Billing  \\n123 Remit St  \\nNew York, NY, 10001  ', metadata={'source': 'inputData.pdf', 'page': 0})]"
      ]
     },
     "execution_count": 3,
     "metadata": {},
     "output_type": "execute_result"
    }
   ],
   "source": [
    "docs"
   ]
  },
  {
   "cell_type": "code",
   "execution_count": 6,
   "metadata": {},
   "outputs": [
    {
     "data": {
      "text/plain": [
       "[Document(page_content='CONTOSO LTD.  \\nContoso Headquarters  \\n123 456th St \\nNew York, NY , 10001  \\nMicrosoft Corp  \\n123 Other St,  \\nRedmond WA, 98052  INVOICE  \\nINVOICE : INV-100 \\nINVOICE DATE : 11/15/20 19 \\nDUE DATE:  12/15/20 19 \\nCUSTOMER NAME:  MICROSOFT CORPORATION  \\nSERVICE PERIO D: 10/14/2019 – 11/14/2019  \\nCUSTOMER ID:  CID-12345  \\nBILL TO: \\nMicrosoft Finance  \\n123 Bill St,  \\nRedmond WA, 98052  SHIP TO:  \\nMicrosoft Delivery  \\n123 Ship St,  \\nRedmond WA, 98052  SERVICE ADDRESS:  \\nMicrosoft Services', metadata={'source': 'inputData.pdf', 'page': 0}),\n",
       " Document(page_content='Microsoft Delivery  \\n123 Ship St,  \\nRedmond WA, 98052  SERVICE ADDRESS:  \\nMicrosoft Services  \\n123 Service St,  \\nRedmond WA, 98052  \\nSALESPERSON  P.O. NUMBER  REQUISITIONER  SHIPPED VIA  F.O.B. POINT  TERMS  \\nPO-3333  \\nDATE  ITEM CODE  DESCRIPTION  QTY  UM PRICE  TAX  AMOUNT  \\n3/4/20 21 A123 Consulting Services  2 hours $30.00  $6.00  $60.00  \\n3/5/2021  B456 Document Fee 3 $10.00  $3.00 $30.00  \\n3/6/2021  C789 Printing Fee  10 pages  $1.00  $1.00  $10.00  \\nSUBTOTAL  $100.00', metadata={'source': 'inputData.pdf', 'page': 0}),\n",
       " Document(page_content='3/6/2021  C789 Printing Fee  10 pages  $1.00  $1.00  $10.00  \\nSUBTOTAL  $100.00  \\nSALES TAX  $10.00  \\nTOTAL  $110.00  \\nPREVIOUS UNPAID BALANCE  $500.00  \\nAMOUNT DUE  $610.00  \\nTHANK YOU FOR YOUR BUSINESS!  \\nREMIT TO: \\nContoso Billing  \\n123 Remit St  \\nNew York, NY, 10001', metadata={'source': 'inputData.pdf', 'page': 0})]"
      ]
     },
     "execution_count": 6,
     "metadata": {},
     "output_type": "execute_result"
    }
   ],
   "source": [
    "from langchain_text_splitters import RecursiveCharacterTextSplitter\n",
    "text_splitter=RecursiveCharacterTextSplitter(chunk_size=500,chunk_overlap=100)\n",
    "documents=text_splitter.split_documents(docs)\n",
    "documents"
   ]
  },
  {
   "cell_type": "code",
   "execution_count": 15,
   "metadata": {},
   "outputs": [],
   "source": [
    "from langchain_community.embeddings import OllamaEmbeddings\n",
    "from langchain_chroma import Chroma\n",
    "db=Chroma.from_documents(documents,OllamaEmbeddings())"
   ]
  },
  {
   "cell_type": "code",
   "execution_count": 11,
   "metadata": {},
   "outputs": [
    {
     "data": {
      "text/plain": [
       "Ollama(model='llama3')"
      ]
     },
     "execution_count": 11,
     "metadata": {},
     "output_type": "execute_result"
    }
   ],
   "source": [
    "from langchain_community.llms import Ollama\n",
    "llm=Ollama(model=\"llama3\")\n",
    "llm"
   ]
  },
  {
   "cell_type": "code",
   "execution_count": 14,
   "metadata": {},
   "outputs": [],
   "source": [
    "from langchain_core.prompts import ChatPromptTemplate\n",
    "prompt=ChatPromptTemplate.from_template(\"\"\" Analyze the following text and provide a accurate answer.\n",
    "                                        <context>{context}</context>\n",
    "                                        Question: {input}\"\"\"\n",
    "\n",
    "                                    )"
   ]
  },
  {
   "cell_type": "code",
   "execution_count": 16,
   "metadata": {},
   "outputs": [],
   "source": [
    "from langchain.chains.combine_documents import create_stuff_documents_chain\n",
    "document_chain=create_stuff_documents_chain(llm, prompt)"
   ]
  },
  {
   "cell_type": "code",
   "execution_count": 17,
   "metadata": {},
   "outputs": [
    {
     "data": {
      "text/plain": [
       "VectorStoreRetriever(tags=['Chroma', 'OllamaEmbeddings'], vectorstore=<langchain_chroma.vectorstores.Chroma object at 0x00000256A9DF33D0>)"
      ]
     },
     "execution_count": 17,
     "metadata": {},
     "output_type": "execute_result"
    }
   ],
   "source": [
    "retriever=db.as_retriever()\n",
    "retriever"
   ]
  },
  {
   "cell_type": "code",
   "execution_count": 18,
   "metadata": {},
   "outputs": [],
   "source": [
    "from langchain.chains import create_retrieval_chain\n",
    "retrieval_chain=create_retrieval_chain(retriever,document_chain)"
   ]
  },
  {
   "cell_type": "code",
   "execution_count": 23,
   "metadata": {},
   "outputs": [
    {
     "name": "stderr",
     "output_type": "stream",
     "text": [
      "Number of requested results 4 is greater than number of elements in index 3, updating n_results = 3\n"
     ]
    }
   ],
   "source": [
    "response=retrieval_chain.invoke({\"input\":\"Fetch me all Date, Item code,Description,QTY,UM,Price,TAX,Amount\"})"
   ]
  },
  {
   "cell_type": "code",
   "execution_count": 28,
   "metadata": {},
   "outputs": [
    {
     "name": "stdout",
     "output_type": "stream",
     "text": [
      "Based on the provided text, here are the requested values:\n",
      "\n",
      "* Dates:\n",
      "\t+ 3/4/20\n",
      "\t+ 3/5/20\n",
      "\t+ 3/6/20\n",
      "\t+ 11/15/19\n",
      "\t+ 12/15/19\n",
      "\t+ 10/14/2019\n",
      "\t+ 11/14/2019\n",
      "* Item Codes:\n",
      "\t+ A123\n",
      "\t+ B456\n",
      "\t+ C789\n",
      "* Descriptions:\n",
      "\t+ Consulting Services\n",
      "\t+ Document Fee\n",
      "\t+ Printing Fee\n",
      "* Quantities (QTY):\n",
      "\t+ 2 hours\n",
      "\t+ 3\n",
      "\t+ 10 pages\n",
      "* Units of Measure (UM):\n",
      "\t+ $/hour\n",
      "\t+ $/each\n",
      "\t+ $/page\n",
      "* Prices:\n",
      "\t+ $30.00\n",
      "\t+ $10.00\n",
      "\t+ $1.00\n",
      "* Taxes:\n",
      "\t+ $6.00\n",
      "\t+ $3.00\n",
      "\t+ $1.00\n",
      "* Amounts:\n",
      "\t+ $60.00\n",
      "\t+ $30.00\n",
      "\t+ $10.00\n",
      "\n",
      "Please note that there are multiple instances of each item, but I have only listed the unique values for clarity purposes.\n"
     ]
    }
   ],
   "source": [
    "print(response['answer'])\n"
   ]
  },
  {
   "cell_type": "code",
   "execution_count": null,
   "metadata": {},
   "outputs": [],
   "source": []
  },
  {
   "cell_type": "code",
   "execution_count": null,
   "metadata": {},
   "outputs": [],
   "source": []
  }
 ],
 "metadata": {
  "kernelspec": {
   "display_name": ".venv",
   "language": "python",
   "name": "python3"
  },
  "language_info": {
   "codemirror_mode": {
    "name": "ipython",
    "version": 3
   },
   "file_extension": ".py",
   "mimetype": "text/x-python",
   "name": "python",
   "nbconvert_exporter": "python",
   "pygments_lexer": "ipython3",
   "version": "3.11.1"
  }
 },
 "nbformat": 4,
 "nbformat_minor": 2
}
